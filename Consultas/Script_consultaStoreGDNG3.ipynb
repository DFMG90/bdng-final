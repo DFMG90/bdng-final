{
 "cells": [
  {
   "cell_type": "code",
   "execution_count": 4,
   "id": "143e8567-9cc9-43ab-930c-a36c4d3e7f6b",
   "metadata": {},
   "outputs": [
    {
     "name": "stdout",
     "output_type": "stream",
     "text": [
      "Requirement already satisfied: boto3 in c:\\users\\hp\\appdata\\local\\programs\\python\\python311\\lib\\site-packages (1.36.9)\n",
      "Requirement already satisfied: botocore<1.37.0,>=1.36.9 in c:\\users\\hp\\appdata\\local\\programs\\python\\python311\\lib\\site-packages (from boto3) (1.36.9)\n",
      "Requirement already satisfied: jmespath<2.0.0,>=0.7.1 in c:\\users\\hp\\appdata\\local\\programs\\python\\python311\\lib\\site-packages (from boto3) (1.0.1)\n",
      "Requirement already satisfied: s3transfer<0.12.0,>=0.11.0 in c:\\users\\hp\\appdata\\local\\programs\\python\\python311\\lib\\site-packages (from boto3) (0.11.2)\n",
      "Requirement already satisfied: python-dateutil<3.0.0,>=2.1 in c:\\users\\hp\\appdata\\local\\programs\\python\\python311\\lib\\site-packages (from botocore<1.37.0,>=1.36.9->boto3) (2.9.0.post0)\n",
      "Requirement already satisfied: urllib3!=2.2.0,<3,>=1.25.4 in c:\\users\\hp\\appdata\\local\\programs\\python\\python311\\lib\\site-packages (from botocore<1.37.0,>=1.36.9->boto3) (2.3.0)\n",
      "Requirement already satisfied: six>=1.5 in c:\\users\\hp\\appdata\\local\\programs\\python\\python311\\lib\\site-packages (from python-dateutil<3.0.0,>=2.1->botocore<1.37.0,>=1.36.9->boto3) (1.17.0)\n"
     ]
    },
    {
     "name": "stderr",
     "output_type": "stream",
     "text": [
      "\n",
      "[notice] A new release of pip is available: 23.2.1 -> 25.0\n",
      "[notice] To update, run: python.exe -m pip install --upgrade pip\n"
     ]
    }
   ],
   "source": [
    "!pip install boto3"
   ]
  },
  {
   "cell_type": "code",
   "execution_count": 5,
   "id": "02ef5215-eb33-40e4-b8f7-8e567cc0a68d",
   "metadata": {},
   "outputs": [],
   "source": [
    "import boto3\n",
    " \n",
    "# Especificar la región y las claves de acceso AWS\n",
    "aws_region = 'eu-west-3'\n",
    "aws_access_key_id = ''\n",
    "aws_secret_access_key = ''\n",
    " \n",
    "# Crear un cliente de DynamoDB con la región y claves especificadas\n",
    "client = boto3.client(\n",
    "    'dynamodb',\n",
    "    region_name=aws_region,\n",
    "    aws_access_key_id=aws_access_key_id,\n",
    "    aws_secret_access_key=aws_secret_access_key\n",
    ")\n",
    " \n",
    "# Crear un recurso de DynamoDB con la región y claves especificadas\n",
    "dynamodb = boto3.resource(\n",
    "    'dynamodb',\n",
    "    region_name=aws_region,\n",
    "    aws_access_key_id=aws_access_key_id,\n",
    "    aws_secret_access_key=aws_secret_access_key\n",
    ")"
   ]
  },
  {
   "cell_type": "code",
   "execution_count": null,
   "id": "56b68a31-0235-4146-9662-4bb3736f86f7",
   "metadata": {
    "scrolled": true
   },
   "outputs": [],
   "source": [
    "\n",
    "import boto3\n",
    "from collections import defaultdict\n",
    "from boto3.dynamodb.conditions import Attr, Key\n",
    "\n",
    "ordenes = dynamodb.Table('Ordenes')\n",
    "productos = dynamodb.Table('productos')\n",
    "\n",
    "# Realizamos un scan para obtener todos los ítems de la tabla de productos\n",
    "response_productos = productos.scan()\n",
    "items_productos = response_productos['Items']\n",
    "\n",
    "# Realizamos un scan para obtener todos los ítems de la tabla de órdenes\n",
    "response_ordenes = ordenes.scan()\n",
    "items_ordenes = response_ordenes['Items']\n",
    " \n",
    "# Verificamos los datos obtenidos\n",
    "print(\"Productos obtenidos:\")\n",
    "print(items_productos)\n",
    "print(\"Órdenes obtenidas:\")\n",
    "print(items_ordenes)"
   ]
  },
  {
   "cell_type": "code",
   "execution_count": null,
   "id": "5b8d3f3b-ea0a-4224-a655-858edab280ba",
   "metadata": {},
   "outputs": [],
   "source": [
    "\n",
    "import decimal\n",
    "if items_ordenes:\n",
    "    seen_product_ids = set()\n",
    "    \n",
    "    highest_rated_products = []\n",
    "    for item in items_ordenes:\n",
    "        if item['Rating'] == decimal.Decimal('5') and item['ProductID'] not in seen_product_ids:\n",
    "            highest_rated_products.append(item)\n",
    "            seen_product_ids.add(item['ProductID'])\n",
    "\n",
    "    print(\" Productos con mayor rating:\")\n",
    "    if highest_rated_products:\n",
    "        for product in highest_rated_products:\n",
    "            print(f\" ProductID: {product['ProductID']}\")\n",
    "            print(f\" Rating: {product['Rating']}\")\n",
    "            print(f\" Nombre del Cliente: {product['NameClient']}\")\n",
    "            print(f\" OrderID: {product['OrderID']}\")\n",
    "            print(\"----\")\n",
    "    else:\n",
    "        print(\"No hay productos con rating 5.\")\n",
    "else:\n",
    "    print(\"No hay productos en la tabla.\")\n"
   ]
  },
  {
   "cell_type": "code",
   "execution_count": null,
   "id": "c3144561-d254-4bea-91a5-83f3d4913026",
   "metadata": {},
   "outputs": [],
   "source": [
    "\n",
    "import decimal\n",
    "if items_ordenes:\n",
    " \n",
    "    seen_product_ids = set()\n",
    "    \n",
    "    highest_rated_products = []\n",
    "    for item in items_ordenes:\n",
    "        if item['Rating'] == decimal.Decimal('1') and item['ProductID'] not in seen_product_ids:\n",
    "            highest_rated_products.append(item)\n",
    "            seen_product_ids.add(item['ProductID'])\n",
    "\n",
    "    print(\" Productos con mayor rating:\")\n",
    "    if highest_rated_products:\n",
    "        for product in highest_rated_products:\n",
    "            print(f\" ProductID: {product['ProductID']}\")\n",
    "            print(f\" Rating: {product['Rating']}\")\n",
    "            print(f\" Nombre del Cliente: {product['NameClient']}\")\n",
    "            print(f\" OrderID: {product['OrderID']}\")\n",
    "            print(\"----\")\n",
    "    else:\n",
    "        print(\"No hay productos con rating 1.\")\n",
    "else:\n",
    "    print(\"No hay productos en la tabla.\")\n"
   ]
  },
  {
   "cell_type": "code",
   "execution_count": null,
   "id": "54e1423d-2310-4b8c-81c7-4ffd59e0f260",
   "metadata": {},
   "outputs": [],
   "source": [
    "# Ventas por ubicación\n",
    "# Consulta: Obtener las ventas totales por ubicación (ciudad, región, etc.).\n",
    "# Objetivo: Identificar qué áreas geográficas están generando más ventas."
   ]
  },
  {
   "cell_type": "code",
   "execution_count": 6,
   "id": "4bfb9419-648e-4ef8-a154-b1be4320d632",
   "metadata": {},
   "outputs": [
    {
     "name": "stdout",
     "output_type": "stream",
     "text": [
      " Cantidad de ventas por lugar :\n",
      " San Francisco: 352 ventas\n",
      " Sacramento: 345 ventas\n",
      " Las Vegas: 335 ventas\n",
      " New York: 322 ventas\n",
      " Cleveland: 316 ventas\n",
      " Portland: 312 ventas\n",
      " New Jersey: 306 ventas\n",
      " San Antonio: 300 ventas\n",
      " Pittsburgh: 298 ventas\n",
      " Memphis: 286 ventas\n",
      " Austin: 283 ventas\n",
      " Detroit: 279 ventas\n",
      " Miami: 266 ventas\n",
      " London: 163 ventas\n",
      " Montreal: 161 ventas\n",
      " Dublin: 156 ventas\n",
      " Manchester: 155 ventas\n",
      " Liverpool: 150 ventas\n",
      " Mumbai: 148 ventas\n",
      " Cardiff: 147 ventas\n",
      " Paris: 147 ventas\n",
      " Sydney: 140 ventas\n",
      " Glasgow: 135 ventas\n",
      " Toronto: 133 ventas\n",
      " New Delhi: 130 ventas\n"
     ]
    }
   ],
   "source": [
    "from collections import defaultdict\n",
    "\n",
    "sales_by_location = defaultdict(int)\n",
    "\n",
    "for item in items_ordenes:\n",
    "    if 'OrderLocation' in item and 'Quantity' in item:\n",
    "        location = item['OrderLocation']\n",
    "        quantity = int(item['Quantity']) \n",
    "        sales_by_location[location] += quantity\n",
    "\n",
    "sorted_sales_by_location = sorted(sales_by_location.items(), key=lambda x: x[1], reverse=True)\n",
    "\n",
    "print(\" Cantidad de ventas por lugar :\")\n",
    "for location, total_sales in sorted_sales_by_location:\n",
    "    print(f\" {location}: {total_sales} ventas\")\n"
   ]
  },
  {
   "cell_type": "code",
   "execution_count": 38,
   "id": "995ea03d-48c9-4ac2-b9d7-648565df3767",
   "metadata": {},
   "outputs": [],
   "source": [
    "# Ventas por categoría de producto\n",
    "# Consulta: Obtener el total de ventas por categoría (por ejemplo, 'Prenda', 'Electrónica', etc.).\n",
    "# Objetivo: Determinar qué categorías de productos son más populares y contribuyen más a las ventas."
   ]
  },
  {
   "cell_type": "code",
   "execution_count": 7,
   "id": "9c1932cf-e495-433c-b149-c542c5ce7f28",
   "metadata": {},
   "outputs": [
    {
     "name": "stdout",
     "output_type": "stream",
     "text": [
      " Ventas por categoría de producto:\n",
      " Categoría: Prenda - Total Ventas: 2912\n",
      " Categoría: Accesorio - Total Ventas: 2853\n"
     ]
    }
   ],
   "source": [
    "\n",
    "category_sales = defaultdict(int)\n",
    "\n",
    "for item_orden in items_ordenes:\n",
    "    if 'ProductID' in item_orden and 'Quantity' in item_orden:\n",
    "        product_id = item_orden['ProductID']\n",
    "        quantity = int(item_orden['Quantity'])\n",
    "\n",
    "        product_info = next((prod for prod in items_productos if prod.get('ProductID') == product_id), None)\n",
    "\n",
    "        if product_info:\n",
    "            category = product_info.get('categoria', 'Desconocida')\n",
    "\n",
    "            category_sales[category] += quantity\n",
    "        else:\n",
    "            print(f\"Producto con ProductID {product_id} no encontrado en la lista de productos.\")\n",
    "\n",
    "sorted_category_sales = sorted(category_sales.items(), key=lambda x: x[1], reverse=True)\n",
    "\n",
    "print(\" Ventas por categoría de producto:\")\n",
    "for category, total_sales in sorted_category_sales:\n",
    "    print(f\" Categoría: {category} - Total Ventas: {total_sales}\")\n"
   ]
  },
  {
   "cell_type": "code",
   "execution_count": 40,
   "id": "04c4a49f-33c8-4abb-8538-01401e247bc4",
   "metadata": {},
   "outputs": [],
   "source": [
    "# Promedio de ventas por cliente\n",
    "# Consulta: Obtener el promedio de ventas por cliente.\n",
    "# Objetivo: Evaluar el comportamiento de los clientes y su nivel de gasto promedio."
   ]
  },
  {
   "cell_type": "code",
   "execution_count": 8,
   "id": "0ed32b2f-eb57-42bc-b1a1-42911ce90f92",
   "metadata": {},
   "outputs": [
    {
     "name": "stdout",
     "output_type": "stream",
     "text": [
      " Promedio de ventas por cliente: 576.01\n"
     ]
    }
   ],
   "source": [
    "from collections import defaultdict\n",
    "\n",
    "customer_sales = defaultdict(int)\n",
    "\n",
    "for item in items_ordenes:\n",
    "    if 'ClientID' in item and 'TotalSales' in item:\n",
    "        client_id = item['ClientID']\n",
    "        customer_sales[client_id] += float(item['TotalSales'])\n",
    "\n",
    "total_customers = len(customer_sales)\n",
    "total_sales = sum(customer_sales.values())\n",
    "avg_sales_per_customer = total_sales / total_customers if total_customers else 0\n",
    "\n",
    "print(f\" Promedio de ventas por cliente: {avg_sales_per_customer:.2f}\")"
   ]
  },
  {
   "cell_type": "code",
   "execution_count": 43,
   "id": "096f5ec2-485b-45c2-a5a7-f0e0edfeb269",
   "metadata": {},
   "outputs": [],
   "source": [
    "# Porcentaje de productos con calificación alta (Rating >= 4)\n",
    "# Consulta: Obtener el porcentaje de productos con una calificación de 4 o más.\n",
    "# Objetivo: Medir la satisfacción general de los clientes y el rendimiento de los productos."
   ]
  },
  {
   "cell_type": "code",
   "execution_count": 9,
   "id": "6c7d9a09-cba7-469e-8cc0-f73edad25866",
   "metadata": {},
   "outputs": [
    {
     "name": "stdout",
     "output_type": "stream",
     "text": [
      "Porcentaje de productos con rating 4 o más: 60.48%\n"
     ]
    }
   ],
   "source": [
    "import decimal\n",
    "\n",
    "high_rated_count = 0\n",
    "total_products = len(items_ordenes)\n",
    "\n",
    "for item in items_ordenes:\n",
    "    if 'Rating' in item and float(item['Rating']) >= 4:  # Acceder directamente a 'Rating'\n",
    "        high_rated_count += 1\n",
    "\n",
    "high_rating_percentage = (high_rated_count / total_products) * 100 if total_products else 0\n",
    "\n",
    "print(f\"Porcentaje de productos con rating 4 o más: {high_rating_percentage:.2f}%\")\n"
   ]
  },
  {
   "cell_type": "code",
   "execution_count": null,
   "id": "b7579dff-f273-4bac-a992-e4f7f2a1285e",
   "metadata": {},
   "outputs": [],
   "source": [
    "# Ventas por cantidad de productos\n",
    "# Consulta: Obtener el total de ventas por cantidad de productos vendidos.\n",
    "# Objetivo: Saber qué tan rápido se venden los productos en comparación con otros."
   ]
  },
  {
   "cell_type": "code",
   "execution_count": 10,
   "id": "9113e868-3942-419e-9bd9-9c3a4f0902fb",
   "metadata": {},
   "outputs": [
    {
     "name": "stdout",
     "output_type": "stream",
     "text": [
      "Ventas por cantidad de productos:\n",
      "Producto BF2370: 234 unidades vendidas\n",
      "Producto BF1414: 264 unidades vendidas\n",
      "Producto BF8063: 261 unidades vendidas\n",
      "Producto BF1681: 249 unidades vendidas\n",
      "Producto BF0103: 230 unidades vendidas\n",
      "Producto BF9289: 260 unidades vendidas\n",
      "Producto BF8238: 256 unidades vendidas\n",
      "Producto BF6693: 236 unidades vendidas\n",
      "Producto BF2887: 226 unidades vendidas\n",
      "Producto BF6975: 252 unidades vendidas\n",
      "Producto BF2152: 206 unidades vendidas\n",
      "Producto BF9878: 274 unidades vendidas\n",
      "Producto BF0060: 257 unidades vendidas\n",
      "Producto BF6167: 244 unidades vendidas\n",
      "Producto BF3942: 238 unidades vendidas\n",
      "Producto BF7814: 261 unidades vendidas\n",
      "Producto BF5238: 231 unidades vendidas\n",
      "Producto BF9724: 270 unidades vendidas\n",
      "Producto BF0809: 197 unidades vendidas\n",
      "Producto BF6604: 235 unidades vendidas\n",
      "Producto BF1772: 260 unidades vendidas\n",
      "Producto BF6885: 222 unidades vendidas\n",
      "Producto BF4831: 170 unidades vendidas\n",
      "Producto BF9708: 232 unidades vendidas\n"
     ]
    }
   ],
   "source": [
    "\n",
    "from collections import defaultdict\n",
    "\n",
    "product_quantity_sales = defaultdict(int)\n",
    "\n",
    "for item in items_ordenes:\n",
    "    if 'ProductID' in item and 'Quantity' in item:\n",
    "        product_id = item['ProductID']\n",
    "        product_quantity_sales[product_id] += int(item['Quantity'])\n",
    "\n",
    "print(\"Ventas por cantidad de productos:\")\n",
    "for product_id, quantity in product_quantity_sales.items():\n",
    "    print(f\"Producto {product_id}: {quantity} unidades vendidas\")\n"
   ]
  },
  {
   "cell_type": "code",
   "execution_count": null,
   "id": "1a3af5e0-1e9a-454c-92b9-8fb7e7548c4d",
   "metadata": {},
   "outputs": [],
   "source": [
    "# Análisis de ventas por género del comprador\n",
    "# Consulta: Obtener las ventas totales por género de los compradores.\n",
    "# Objetivo: Analizar las diferencias en las preferencias de compra según el género"
   ]
  },
  {
   "cell_type": "code",
   "execution_count": 11,
   "id": "7f8f51c2-d8c2-4683-9843-cbd1dc20612d",
   "metadata": {},
   "outputs": [
    {
     "name": "stdout",
     "output_type": "stream",
     "text": [
      " Ventas por género del comprador:\n",
      " Género: Female - Ventas Totales: 113590.0\n",
      " Género: Male - Ventas Totales: 287311.0\n"
     ]
    }
   ],
   "source": [
    "import decimal\n",
    "from collections import defaultdict\n",
    "\n",
    "gender_sales = defaultdict(int)\n",
    "\n",
    "for item in items_ordenes:\n",
    "    if 'BuyerGender' in item and 'TotalSales' in item:\n",
    "        # 'TotalSales' ya es un Decimal, lo convertimos directamente a float\n",
    "        gender_sales[item['BuyerGender']] += float(item['TotalSales'])\n",
    "\n",
    "print(\" Ventas por género del comprador:\")\n",
    "for gender, total_sales in gender_sales.items():\n",
    "    print(f\" Género: {gender} - Ventas Totales: {total_sales}\")\n",
    "\n"
   ]
  },
  {
   "cell_type": "code",
   "execution_count": null,
   "id": "e0e9d40f-3ed6-49e6-845a-e98bab52b9bb",
   "metadata": {},
   "outputs": [],
   "source": [
    "# Análisis de ventas por fecha (últimos 100 días, por ejemplo)\n",
    "# Consulta: Obtener las ventas realizadas en los últimos 30 días, mostrando el total de ventas por día.\n",
    "# Objetivo: Analizar el comportamiento de ventas y detectar tendencias o patrones estacionales."
   ]
  },
  {
   "cell_type": "code",
   "execution_count": 12,
   "id": "b83a99f7-f60e-42c0-bafa-3273da4f9252",
   "metadata": {},
   "outputs": [
    {
     "name": "stdout",
     "output_type": "stream",
     "text": [
      " Ventas por fecha en los últimos 30 días:\n",
      " Fecha: 2024-10-23 - Ventas Totales: 354.0\n",
      " Fecha: 2024-10-24 - Ventas Totales: 959.0\n",
      " Fecha: 2024-10-25 - Ventas Totales: 750.0\n",
      " Fecha: 2024-10-26 - Ventas Totales: 999.0\n",
      " Fecha: 2024-10-27 - Ventas Totales: 739.0\n",
      " Fecha: 2024-10-28 - Ventas Totales: 612.0\n",
      " Fecha: 2024-10-29 - Ventas Totales: 573.0\n",
      " Fecha: 2024-10-30 - Ventas Totales: 1384.0\n",
      " Fecha: 2024-10-31 - Ventas Totales: 1353.0\n",
      " Fecha: 2024-11-01 - Ventas Totales: 2133.0\n",
      " Fecha: 2024-11-02 - Ventas Totales: 463.0\n",
      " Fecha: 2024-11-03 - Ventas Totales: 1314.0\n",
      " Fecha: 2024-11-04 - Ventas Totales: 523.0\n"
     ]
    }
   ],
   "source": [
    "from datetime import datetime, timedelta\n",
    "from collections import defaultdict\n",
    "\n",
    "today = datetime.today()\n",
    "thirty_days_ago = today - timedelta(days=100)\n",
    "\n",
    "daily_sales = defaultdict(float)\n",
    "\n",
    "for item in items_ordenes:\n",
    "    if 'OrderDate' in item and 'TotalSales' in item:\n",
    "        order_date = datetime.strptime(item['OrderDate'], '%d/%m/%Y')\n",
    "        if order_date >= thirty_days_ago:\n",
    "            daily_sales[order_date.date()] += float(item['TotalSales'])\n",
    "\n",
    "sorted_daily_sales = sorted(daily_sales.items(), key=lambda x: x[0])\n",
    "\n",
    "print(\" Ventas por fecha en los últimos 30 días:\")\n",
    "for date, total_sales in sorted_daily_sales:\n",
    "    print(f\" Fecha: {date} - Ventas Totales: {total_sales}\")\n",
    "\n"
   ]
  },
  {
   "cell_type": "code",
   "execution_count": null,
   "id": "8ac61f32-7e27-40ef-aae6-0e17a837e44f",
   "metadata": {},
   "outputs": [],
   "source": [
    "# Promedio de ventas por ubicación y categoría\n",
    "# Consulta: Obtener el promedio de ventas por ubicación y categoría de producto.\n",
    "# Objetivo: Analizar qué combinaciones de ubicación y categoría generan más ventas en promedio."
   ]
  },
  {
   "cell_type": "code",
   "execution_count": null,
   "id": "7e9f3052-4d58-469b-9f84-5557e9c93f3e",
   "metadata": {},
   "outputs": [],
   "source": [
    "location_category_sales = defaultdict(lambda: defaultdict(float))\n",
    "location_category_count = defaultdict(lambda: defaultdict(int))\n",
    "\n",
    "for item in items_ordenes:\n",
    "    if 'OrderLocation' in item and 'ProductID' in item and 'TotalSales' in item:\n",
    "        location = item['OrderLocation']\n",
    "        product_id = item['ProductID']  \n",
    "        \n",
    "        product_info = next((prod for prod in items_productos if prod['ProductID'] == product_id), None) \n",
    "        if product_info:\n",
    "            category = product_info['categoria']  # Ya no usamos ['S']\n",
    "            location_category_sales[location][category] += float(item['TotalSales'])\n",
    "            location_category_count[location][category] += 1\n",
    "\n",
    "for location in location_category_sales:\n",
    "    for category in location_category_sales[location]:\n",
    "        total_sales = location_category_sales[location][category]\n",
    "        total_count = location_category_count[location][category]\n",
    "        avg_sales = total_sales / total_count if total_count else 0\n",
    "        print(f\" Ubicación: {location}, Categoría: {category} - Promedio de Ventas: {avg_sales:.2f}\")\n",
    "\n"
   ]
  },
  {
   "cell_type": "code",
   "execution_count": null,
   "id": "f8433aa5-fa77-45b2-ad94-740fbb6ea490",
   "metadata": {},
   "outputs": [],
   "source": [
    "# Productos con mayor ingreso total\n",
    "# Consulta: Obtener los productos que generaron más ingresos en total.\n",
    "# Objetivo: Identificar qué productos están generando los mayores ingresos y ajustar estrategias de marketing o inventario."
   ]
  },
  {
   "cell_type": "code",
   "execution_count": 17,
   "id": "b25a141d-0335-41fd-a682-b233db438210",
   "metadata": {},
   "outputs": [
    {
     "name": "stdout",
     "output_type": "stream",
     "text": [
      " Productos con mayor ingreso total:\n",
      " ProductoID: BF9878 - Ingreso Total: 20009.00\n",
      " ProductoID: BF1772 - Ingreso Total: 19514.00\n",
      " ProductoID: BF9289 - Ingreso Total: 19055.00\n",
      " ProductoID: BF9724 - Ingreso Total: 18790.00\n",
      " ProductoID: BF1414 - Ingreso Total: 18665.00\n",
      " ProductoID: BF6167 - Ingreso Total: 18636.00\n",
      " ProductoID: BF6604 - Ingreso Total: 18315.00\n",
      " ProductoID: BF7814 - Ingreso Total: 18083.00\n",
      " ProductoID: BF1681 - Ingreso Total: 18041.00\n",
      " ProductoID: BF0060 - Ingreso Total: 17611.00\n",
      " ProductoID: BF8063 - Ingreso Total: 17303.00\n",
      " ProductoID: BF3942 - Ingreso Total: 17243.00\n",
      " ProductoID: BF6693 - Ingreso Total: 17173.00\n",
      " ProductoID: BF8238 - Ingreso Total: 16870.00\n",
      " ProductoID: BF5238 - Ingreso Total: 15927.00\n",
      " ProductoID: BF6975 - Ingreso Total: 15771.00\n",
      " ProductoID: BF2887 - Ingreso Total: 15647.00\n",
      " ProductoID: BF9708 - Ingreso Total: 14962.00\n",
      " ProductoID: BF2370 - Ingreso Total: 14945.00\n",
      " ProductoID: BF2152 - Ingreso Total: 14706.00\n",
      " ProductoID: BF6885 - Ingreso Total: 14402.00\n",
      " ProductoID: BF0103 - Ingreso Total: 14217.00\n",
      " ProductoID: BF0809 - Ingreso Total: 13553.00\n",
      " ProductoID: BF4831 - Ingreso Total: 11463.00\n"
     ]
    }
   ],
   "source": [
    "\n",
    "import decimal\n",
    "product_revenue = defaultdict(float)\n",
    "\n",
    "for item in items_ordenes:\n",
    "    if 'ProductID' in item and 'TotalSales' in item and 'Quantity' in item:\n",
    "        product_id = item['ProductID']  \n",
    "        revenue = float(item['TotalSales'])  \n",
    "        product_revenue[product_id] += revenue\n",
    "\n",
    "sorted_product_revenue = sorted(product_revenue.items(), key=lambda x: x[1], reverse=True)\n",
    "\n",
    "print(\" Productos con mayor ingreso total:\")\n",
    "for product_id, total_revenue in sorted_product_revenue:\n",
    "    print(f\" ProductoID: {product_id} - Ingreso Total: {total_revenue:.2f}\")\n",
    "\n"
   ]
  },
  {
   "cell_type": "code",
   "execution_count": null,
   "id": "f7beb4cf-37d4-42c3-8023-bad9bddd38a4",
   "metadata": {},
   "outputs": [],
   "source": [
    "# Ventas según el canal de envío (nacional vs internacional)\n",
    "# Consulta: Obtener las ventas totales según el tipo de envío (nacional o internacional).\n",
    "# Objetivo: Evaluar si los envíos internacionales están generando un porcentaje significativo de las ventas."
   ]
  },
  {
   "cell_type": "code",
   "execution_count": 18,
   "id": "cf9d1159-1a2e-4bb8-968f-c6dea54ce0b7",
   "metadata": {},
   "outputs": [
    {
     "name": "stdout",
     "output_type": "stream",
     "text": [
      " Ventas por tipo de envío:\n",
      " Envío Internacional: Ventas Totales: 182155.00\n",
      " Envío Nacional: Ventas Totales: 218746.00\n"
     ]
    }
   ],
   "source": [
    "shipping_sales = defaultdict(float)\n",
    "\n",
    "for item in items_ordenes:\n",
    "    if 'InternationalShipping' in item and 'TotalSales' in item:\n",
    "        shipping_type = item['InternationalShipping']\n",
    "        \n",
    "\n",
    "        if shipping_type == 'Yes':\n",
    "            shipping_type = 'Internacional'\n",
    "        elif shipping_type == 'No':\n",
    "            shipping_type = 'Nacional'\n",
    "        \n",
    "        shipping_sales[shipping_type] += float(item['TotalSales'])\n",
    "\n",
    "print(\" Ventas por tipo de envío:\")\n",
    "for shipping_type, total_sales in shipping_sales.items():\n",
    "    print(f\" Envío {shipping_type}: Ventas Totales: {total_sales:.2f}\")\n"
   ]
  },
  {
   "cell_type": "code",
   "execution_count": null,
   "id": "eefe8fe7-9646-467b-b0bd-eaab42c6c038",
   "metadata": {},
   "outputs": [],
   "source": [
    "# Clientes recurrentes\n",
    "# Consulta: Obtener la cantidad de clientes recurrentes (que han hecho más de 10 compras).\n",
    "# Objetivo: Identificar cuántos clientes están regresando y la fidelidad de la base de clientes."
   ]
  },
  {
   "cell_type": "code",
   "execution_count": 26,
   "id": "bbfe4df9-6610-436c-9523-35c8467d44bc",
   "metadata": {},
   "outputs": [
    {
     "name": "stdout",
     "output_type": "stream",
     "text": [
      " Clientes Recurrentes: 10\n",
      " Cliente: Adele Dwane - Compras Realizadas: 12\n",
      " Cliente: Christine Jacquest - Compras Realizadas: 12\n",
      " Cliente: Jacklyn Rudall - Compras Realizadas: 13\n",
      " Cliente: Stevena Guillain - Compras Realizadas: 12\n",
      " Cliente: Bonni Bliven - Compras Realizadas: 11\n",
      " Cliente: Erin Flageul - Compras Realizadas: 12\n",
      " Cliente: Bret Whyler - Compras Realizadas: 11\n",
      " Cliente: Serge Stevani - Compras Realizadas: 11\n",
      " Cliente: Mattias Hassin - Compras Realizadas: 11\n",
      " Cliente: Clarette Jerred - Compras Realizadas: 11\n"
     ]
    }
   ],
   "source": [
    "from collections import defaultdict\n",
    "\n",
    "clientes_compras = defaultdict(int)\n",
    "clientes_nombres = {}\n",
    "\n",
    "for item in items_ordenes:\n",
    "    if 'ClientID' in item and 'NameClient' in item:\n",
    "        clientes_compras[item['ClientID']] += 1\n",
    "        clientes_nombres[item['ClientID']] = item['NameClient'] \n",
    "\n",
    "clientes_recurrentes = {cliente: compras for cliente, compras in clientes_compras.items() if compras > 10}\n",
    "cantidad_recurrentes = len(clientes_recurrentes)\n",
    "\n",
    "print(f\" Clientes Recurrentes: {cantidad_recurrentes}\")\n",
    "for cliente, compras in clientes_recurrentes.items():\n",
    "    nombre_cliente = clientes_nombres.get(cliente, \"Desconocido\")  # Obtener el nombre o mostrar \"Desconocido\" si falta\n",
    "    print(f\" Cliente: {nombre_cliente} - Compras Realizadas: {compras}\")\n"
   ]
  },
  {
   "cell_type": "code",
   "execution_count": null,
   "id": "9f1bdd10-3c65-42d5-b730-bc294c698d92",
   "metadata": {},
   "outputs": [],
   "source": []
  }
 ],
 "metadata": {
  "kernelspec": {
   "display_name": "Python 3 (ipykernel)",
   "language": "python",
   "name": "python3"
  },
  "language_info": {
   "codemirror_mode": {
    "name": "ipython",
    "version": 3
   },
   "file_extension": ".py",
   "mimetype": "text/x-python",
   "name": "python",
   "nbconvert_exporter": "python",
   "pygments_lexer": "ipython3",
   "version": "3.11.5"
  }
 },
 "nbformat": 4,
 "nbformat_minor": 5
}
