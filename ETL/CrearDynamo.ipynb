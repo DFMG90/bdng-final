{
 "cells": [
  {
   "cell_type": "markdown",
   "metadata": {},
   "source": [
    "Para usar este script es necesario configurar las siguientes environment variables:\n",
    "- `AWS_ACCESS_KEY`\n",
    "- `AWS_SECRET_ACCESS_KEY`\n",
    "- `AWS_DEFAULT_REGION`"
   ]
  },
  {
   "cell_type": "markdown",
   "metadata": {},
   "source": [
    "Cargando dependencias y conectando al recurso dynamoDB"
   ]
  },
  {
   "cell_type": "code",
   "execution_count": 142,
   "metadata": {},
   "outputs": [],
   "source": [
    "import boto3\n",
    "from boto3.dynamodb.conditions import Attr, Key\n",
    "import pandas as pd\n",
    "import json\n",
    "\n",
    "dynamodb= boto3.resource('dynamodb')"
   ]
  },
  {
   "cell_type": "markdown",
   "metadata": {},
   "source": [
    "# Creando Tabla 'Ordenes'"
   ]
  },
  {
   "cell_type": "code",
   "execution_count": 5,
   "metadata": {},
   "outputs": [
    {
     "name": "stdout",
     "output_type": "stream",
     "text": [
      "0\n"
     ]
    }
   ],
   "source": [
    "ordenes = dynamodb.create_table(\n",
    "    TableName = 'Ordenes',\n",
    "    KeySchema =[\n",
    "        {\n",
    "            'AttributeName' : 'OrdenID',\n",
    "            'KeyType' : 'HASH'\n",
    "        }\n",
    "    ],\n",
    "    AttributeDefinitions = [\n",
    "        {\n",
    "            'AttributeName' : 'OrdenID',\n",
    "            'AttributeType' : 'S'\n",
    "        }\n",
    "    ],\n",
    "    ProvisionedThroughput = {\n",
    "        'ReadCapacityUnits' : 10,\n",
    "        'WriteCapacityUnits' : 10\n",
    "    }\n",
    ")\n",
    "\n",
    "ordenes.wait_until_exists()\n",
    "\n",
    "print(ordenes.item_count)"
   ]
  },
  {
   "cell_type": "markdown",
   "metadata": {},
   "source": [
    "Agregando un Item"
   ]
  },
  {
   "cell_type": "code",
   "execution_count": null,
   "metadata": {},
   "outputs": [],
   "source": [
    "ordenes = dynamodb.Table('Ordenes')\n",
    "\n",
    "ordenes.put_item(\n",
    "    Item = {\n",
    "        'OrdenID' : \"189440\",\n",
    "        'Cliente' : [\n",
    "            509477760, \"Hertha Jiles\",  \"hjiles@ed.gov\",     \"Hombre\",      \"New Jersey\",           False,                  30\n",
    "        #   ClienteID   #Nombre          #Email                #Genero            #Lugar      #Internacional o no     #Edad\n",
    "        ],\n",
    "        'Producto' : [\n",
    "            \"BF8238\",        1,              4\n",
    "        #   ProductID       #Cantidad       #Rating\n",
    "        ],\n",
    "        \"Precio\" : [\n",
    "            100,                0,              100\n",
    "        #   PrecioSales        #Shipping        #Total\n",
    "        ],\n",
    "        'Reseña' :'The delivery team handled the product with care.'\n",
    "    }\n",
    ")"
   ]
  },
  {
   "cell_type": "markdown",
   "metadata": {},
   "source": [
    "Agregando varios items en batch"
   ]
  },
  {
   "cell_type": "code",
   "execution_count": 92,
   "metadata": {},
   "outputs": [],
   "source": [
    "with ordenes.batch_writer() as batch:\n",
    "    batch.put_item(\n",
    "        Item = {\n",
    "            'OrdenID' : \"126695\",\n",
    "            'Cliente' : [\n",
    "                396566981, \"Hertha Jiles\",  \"hjiles@ed.gov\",     \"Hombre\",      \"Sydney\",           True,                  27\n",
    "            #   ClienteID   #Nombre          #Email                #Genero            #Lugar      #Internacional o no     #Edad\n",
    "            ],\n",
    "            'Producto' : [\n",
    "                \"BF9708\",        1,              5\n",
    "            #   ProductID       #Cantidad       #Rating\n",
    "            ],\n",
    "            \"Precio\" : [\n",
    "                97,                100,              197\n",
    "            #   PrecioSales        #Shipping        #Total\n",
    "            ],\n",
    "            'Reseña' :'The Product exhibits good design.'\n",
    "        }\n",
    "    )\n",
    "\n",
    "    batch.put_item(\n",
    "        Item = {\n",
    "            'OrdenID' : \"129765\",\n",
    "            'Cliente' : [\n",
    "                396566981, \"Hertha Jiles\",  \"hjiles@ed.gov\",     \"Mujer\",      \"San Antonio\",           False,                  19\n",
    "            #   ClienteID   #Nombre          #Email                #Genero            #Lugar      #Internacional o no     #Edad\n",
    "            ],\n",
    "            'Producto' : [\n",
    "                \"BF6604\",        1,              5\n",
    "            #   ProductID       #Cantidad       #Rating\n",
    "            ],\n",
    "            \"Precio\" : [\n",
    "                9,                0,              9\n",
    "            #   PrecioSales        #Shipping        #Total\n",
    "            ],\n",
    "            'Reseña' :'Exquisite craftsmanship here is absolutely appreciated.'\n",
    "        }\n",
    "    )"
   ]
  },
  {
   "cell_type": "markdown",
   "metadata": {},
   "source": [
    "# Queries"
   ]
  },
  {
   "cell_type": "code",
   "execution_count": 130,
   "metadata": {},
   "outputs": [
    {
     "name": "stdout",
     "output_type": "stream",
     "text": [
      "{'ProductID': 'BF8238', 'Review': 'The delivery team handled the product with care.', 'ClientID': '509477760', 'BuyerAge': Decimal('30'), 'OrderDate': '21/07/2024', 'ShippingCharges': Decimal('0'), 'Quantity': Decimal('1'), 'BuyerGender': 'Male', 'InternationalShipping': 'No', 'OrderID': '189440', 'SalesPrice': Decimal('100'), 'TotalSales': Decimal('100'), 'SalesPerUnit': Decimal('100'), 'OrderLocation': 'New Jersey', 'Rating': Decimal('4')}\n"
     ]
    }
   ],
   "source": [
    "response = ordenes.get_item(\n",
    "    Key = {\n",
    "        'OrderID' : \"189440\"\n",
    "    }\n",
    ")\n",
    "\n",
    "item = response['Item']\n",
    "print(item)"
   ]
  },
  {
   "cell_type": "code",
   "execution_count": 61,
   "metadata": {},
   "outputs": [
    {
     "name": "stdout",
     "output_type": "stream",
     "text": [
      "['BF6167']\n",
      "['BF1681']\n"
     ]
    }
   ],
   "source": [
    "ordenes = dynamodb.Table('Ordenes')\n",
    "response = ordenes.scan(\n",
    "    ProjectionExpression = 'Cliente[1], OrdenID, Producto[0]',\n",
    "    FilterExpression = Attr('Cliente').contains(396566981)\n",
    ")\n",
    "\n",
    "item = response['Items']\n",
    "\n",
    "\n",
    "for i in range(len(item)):\n",
    "    print(item[i]['Producto'])\n"
   ]
  },
  {
   "cell_type": "markdown",
   "metadata": {},
   "source": [
    "# Creando tabla 'Productos'"
   ]
  },
  {
   "cell_type": "code",
   "execution_count": 10,
   "metadata": {},
   "outputs": [
    {
     "name": "stdout",
     "output_type": "stream",
     "text": [
      "0\n"
     ]
    }
   ],
   "source": [
    "productos = dynamodb.create_table(\n",
    "    TableName = 'Productos',\n",
    "    KeySchema =[\n",
    "        {\n",
    "            'AttributeName' : 'ProductID',\n",
    "            'KeyType' : 'HASH'\n",
    "        }\n",
    "    ],\n",
    "    AttributeDefinitions = [\n",
    "        {\n",
    "            'AttributeName' : 'ProductID',\n",
    "            'AttributeType' : 'S'\n",
    "        }\n",
    "    ],\n",
    "    ProvisionedThroughput = {\n",
    "        'ReadCapacityUnits' : 10,\n",
    "        'WriteCapacityUnits' : 10\n",
    "    }\n",
    ")\n",
    "\n",
    "productos.wait_until_exists()\n",
    "\n",
    "print(productos.item_count)"
   ]
  },
  {
   "cell_type": "code",
   "execution_count": 13,
   "metadata": {},
   "outputs": [],
   "source": [
    "with productos.batch_writer() as batch:\n",
    "    batch.put_item(\n",
    "        Item = {\n",
    "            'ProductID' : \"BF9708\",\n",
    "            'Producto' : \"Bufanda1\",\n",
    "            'Categoria' : \"Accesorio\",\n",
    "            'Descripcion' :'Bufanda uno',\n",
    "            'imgURL' : \"https://productosizzyshop.s3.us-east-1.amazonaws.com/bufanda1.JPG\"\n",
    "        }\n",
    "    )\n",
    "\n",
    "    batch.put_item(\n",
    "        Item = {\n",
    "            'ProductID' : \"Bf1414\",\n",
    "            'Producto' : \"Camisa1\",\n",
    "            'Categoria' : \"Prenda\",\n",
    "            'Descripcion' :'Camisa uno',\n",
    "            'imgURL' : \"https://productosizzyshop.s3.us-east-1.amazonaws.com/camisa1.JPG\"\n",
    "        }\n",
    "    )\n",
    "\n",
    "    batch.put_item(\n",
    "        Item = {\n",
    "            'ProductID' : \"BF6604\",\n",
    "            'Producto' : \"Collar1\",\n",
    "            'Categoria' : \"Accesorio\",\n",
    "            'Descripcion' :'Collar uno',\n",
    "            'imgURL' : \"https://productosizzyshop.s3.us-east-1.amazonaws.com/collar1.JPG\"\n",
    "        }\n",
    "    )\n",
    "\n",
    "    batch.put_item(\n",
    "        Item = {\n",
    "            'ProductID' : \"BF2887\",\n",
    "            'Producto' : \"Zapatos1\",\n",
    "            'Categoria' : \"Accesorio\",\n",
    "            'Descripcion' :'Zapato uno',\n",
    "            'imgURL' : \"https://productosizzyshop.s3.us-east-1.amazonaws.com/zapatos1.JPG\"\n",
    "        }\n",
    "    )\n",
    "\n",
    "    batch.put_item(\n",
    "        Item = {\n",
    "            'ProductID' : \"BF8063\",\n",
    "            'Producto' : \"Vestido1\",\n",
    "            'Categoria' : \"Prenda\",\n",
    "            'Descripcion' :'Vestido uno',\n",
    "            'imgURL' : \"https://productosizzyshop.s3.us-east-1.amazonaws.com/vestido1.JPG\"\n",
    "        }\n",
    "    )"
   ]
  },
  {
   "cell_type": "code",
   "execution_count": 157,
   "metadata": {},
   "outputs": [
    {
     "name": "stdout",
     "output_type": "stream",
     "text": [
      "{\"ProductID\": \"BF0809\", \"descripcion\": \"zapatos con una combinacion de colores perfecta y comodos para el dia a dia.\", \"Producto\": \"Zapatos3\", \"categoria\": \"Accesorio\", \"urls3\": \"https://productosizzyshop.s3.us-east-1.amazonaws.com/zapatos3.JPG\", \"precio\": 45.99}\n"
     ]
    }
   ],
   "source": [
    "from decimal import Decimal\n",
    "\n",
    "class DecimalEncoder(json.JSONEncoder):\n",
    "  def default(self, obj):\n",
    "    if isinstance(obj, Decimal):\n",
    "      return float(obj)\n",
    "    return json.JSONEncoder.default(self, obj)\n",
    "\n",
    "productos =dynamodb.Table('productos')\n",
    "response = productos.scan(\n",
    "    #ProjectionExpression = 'Producto, Categoria, descripcion, urls3',\n",
    "\n",
    "    FilterExpression = Attr('ProductID').eq('BF0809')\n",
    ")\n",
    "\n",
    "items = response['Items'][0]\n",
    "\n",
    "print(json.dumps(items, cls=DecimalEncoder))"
   ]
  },
  {
   "cell_type": "markdown",
   "metadata": {},
   "source": [
    "# Query en las dos tablas"
   ]
  },
  {
   "cell_type": "code",
   "execution_count": 166,
   "metadata": {},
   "outputs": [
    {
     "name": "stdout",
     "output_type": "stream",
     "text": [
      "{'NameClient': 'Reggie Elijah'}\n"
     ]
    }
   ],
   "source": [
    "productos =dynamodb.Table('productos')\n",
    "ordenes = dynamodb.Table('Ordenes')\n",
    "clienteID = \"896030670\"\n",
    "\n",
    "cliResponse = ordenes.scan(\n",
    "    ProjectionExpression = 'NameClient',\n",
    "    FilterExpression = Attr('ClientID').contains(clienteID)\n",
    ")\n",
    "cliNom = cliResponse['Items'][0]\n",
    "print(cliNom)"
   ]
  },
  {
   "cell_type": "code",
   "execution_count": 177,
   "metadata": {},
   "outputs": [
    {
     "name": "stdout",
     "output_type": "stream",
     "text": [
      "[{'ProductID': 'BF8063', 'OrderID': '177684'}, {'ProductID': 'BF1772', 'OrderID': '168714'}]\n",
      "response\n",
      "response\n",
      "[{'NameClient': 'Reggie Elijah'}, {'ProductID': 'BF8063', 'OrderID': '177684', 'ProductoDetalles': {'ProductID': 'BF8063', 'descripcion': 'Vestido rojo con puntos blancos con un estilo clasico pero juvenil a su vez.', 'Producto': 'Vestido1', 'categoria': 'Prenda', 'urls3': 'https://productosizzyshop.s3.us-east-1.amazonaws.com/vestido1.JPG', 'precio': Decimal('51.99')}}, {'ProductID': 'BF1772', 'OrderID': '168714', 'ProductoDetalles': {'ProductID': 'BF1772', 'descripcion': 'jeans de color gris oscuro, doblados. Los jeans tienen un bolsillo trasero visible y una etiqueta en la pretina.', 'Producto': 'Pantalones2', 'categoria': 'Prenda', 'urls3': 'https://productosizzyshop.s3.us-east-1.amazonaws.com/panatalon2.JPG', 'precio': Decimal('41')}}]\n"
     ]
    }
   ],
   "source": [
    "response = ordenes.scan(\n",
    "    ProjectionExpression = 'OrderID, ProductID',\n",
    "    FilterExpression = Attr('ClientID').eq(clienteID)\n",
    ")\n",
    "\n",
    "item = response['Items']\n",
    "print(item)\n",
    "for i in range(len(item)):\n",
    "    productID = str(item[i]['ProductID'])\n",
    "\n",
    "    response = productos.query(\n",
    "        #ProjectionExpression = 'Producto, Categoria, Descripcion, imgURL',\n",
    "        KeyConditionExpression = Key('ProductID').eq(productID)\n",
    "    )\n",
    "    print(\"response\")\n",
    "\n",
    "    # print(productID, \"\\t-\", response['Items'])\n",
    "\n",
    "    item[i]['ProductoDetalles'] = response['Items'][0]\n",
    "\n",
    "item.insert(0, cliNom)\n",
    "\n",
    "queryResults = item\n",
    "print(queryResults)"
   ]
  },
  {
   "cell_type": "code",
   "execution_count": 115,
   "metadata": {},
   "outputs": [
    {
     "name": "stdout",
     "output_type": "stream",
     "text": [
      "{'Cliente': ['Hertha Jiles']}\n",
      "[{'Cliente': ['Hertha Jiles']}, {'OrdenID': '129765', 'Producto': ['BF6604'], 'ProductoDetalles': {'ProductID': 'BF6604', 'Categoria': 'Accesorio', 'Producto': 'Collar1', 'Descripcion': 'Collar uno', 'imgURL': 'https://productosizzyshop.s3.us-east-1.amazonaws.com/collar1.JPG'}}, {'OrdenID': '126695', 'Producto': ['BF9708'], 'ProductoDetalles': {'ProductID': 'BF9708', 'Categoria': 'Accesorio', 'Producto': 'Bufanda1', 'Descripcion': 'Bufanda uno', 'imgURL': 'https://productosizzyshop.s3.us-east-1.amazonaws.com/bufanda1.JPG'}}]\n"
     ]
    }
   ],
   "source": [
    "cliente =396566981\n",
    "cliResponse = ordenes.scan(\n",
    "    ProjectionExpression = 'Cliente[1]',\n",
    "    FilterExpression = Attr('Cliente').contains(cliente)\n",
    ")\n",
    "cliNom = cliResponse['Items'][0]\n",
    "print(cliNom)\n",
    "\n",
    "response = ordenes.scan(\n",
    "    ProjectionExpression = 'OrdenID, Producto[0]',\n",
    "    FilterExpression = Attr('Cliente').contains(cliente)\n",
    ")\n",
    "\n",
    "item = response['Items']\n",
    "\n",
    "for i in range(len(item)):\n",
    "    productID = str(item[i]['Producto'][0])\n",
    "\n",
    "    response = productos.query(\n",
    "        #ProjectionExpression = 'Producto, Categoria, Descripcion, imgURL',\n",
    "        KeyConditionExpression = Key('ProductID').eq(productID)\n",
    "    )\n",
    "\n",
    "    item[i]['ProductoDetalles'] = response['Items'][0]\n",
    "\n",
    "item.insert(0, cliNom)\n",
    "queryResults = item\n",
    "print(queryResults)"
   ]
  }
 ],
 "metadata": {
  "kernelspec": {
   "display_name": "aws",
   "language": "python",
   "name": "python3"
  },
  "language_info": {
   "codemirror_mode": {
    "name": "ipython",
    "version": 3
   },
   "file_extension": ".py",
   "mimetype": "text/x-python",
   "name": "python",
   "nbconvert_exporter": "python",
   "pygments_lexer": "ipython3",
   "version": "3.11.11"
  }
 },
 "nbformat": 4,
 "nbformat_minor": 2
}
