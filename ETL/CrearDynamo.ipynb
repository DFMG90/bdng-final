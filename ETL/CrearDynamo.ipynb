{
 "cells": [
  {
   "cell_type": "markdown",
   "metadata": {},
   "source": [
    "Para usar este script es necesario configurar las siguientes environment variables:\n",
    "- `AWS_ACCESS_KEY`\n",
    "- `AWS_SECRET_ACCESS_KEY`\n",
    "- `AWS_DEFAULT_REGION`"
   ]
  },
  {
   "cell_type": "markdown",
   "metadata": {},
   "source": [
    "Cargando dependencias y conectando al recurso dynamoDB"
   ]
  },
  {
   "cell_type": "code",
   "execution_count": 1,
   "metadata": {},
   "outputs": [],
   "source": [
    "import boto3\n",
    "import pandas as pd\n",
    "\n",
    "dynamodb= boto3.resource('dynamodb')"
   ]
  },
  {
   "cell_type": "markdown",
   "metadata": {},
   "source": [
    "# Creando Tabla 'Ordenes'"
   ]
  },
  {
   "cell_type": "code",
   "execution_count": 5,
   "metadata": {},
   "outputs": [
    {
     "name": "stdout",
     "output_type": "stream",
     "text": [
      "0\n"
     ]
    }
   ],
   "source": [
    "ordenes = dynamodb.create_table(\n",
    "    TableName = 'Ordenes',\n",
    "    KeySchema =[\n",
    "        {\n",
    "            'AttributeName' : 'OrdenID',\n",
    "            'KeyType' : 'HASH'\n",
    "        }\n",
    "    ],\n",
    "    AttributeDefinitions = [\n",
    "        {\n",
    "            'AttributeName' : 'OrdenID',\n",
    "            'AttributeType' : 'S'\n",
    "        }\n",
    "    ],\n",
    "    ProvisionedThroughput = {\n",
    "        'ReadCapacityUnits' : 10,\n",
    "        'WriteCapacityUnits' : 10\n",
    "    }\n",
    ")\n",
    "\n",
    "ordenes.wait_until_exists()\n",
    "\n",
    "print(ordenes.item_count)"
   ]
  },
  {
   "cell_type": "markdown",
   "metadata": {},
   "source": [
    "Agregando un Item"
   ]
  },
  {
   "cell_type": "code",
   "execution_count": null,
   "metadata": {},
   "outputs": [
    {
     "data": {
      "text/plain": [
       "{'ResponseMetadata': {'RequestId': 'NI7FGLEGALJ20062T9IJFF1GKNVV4KQNSO5AEMVJF66Q9ASUAAJG',\n",
       "  'HTTPStatusCode': 200,\n",
       "  'HTTPHeaders': {'server': 'Server',\n",
       "   'date': 'Sat, 25 Jan 2025 11:14:08 GMT',\n",
       "   'content-type': 'application/x-amz-json-1.0',\n",
       "   'content-length': '2',\n",
       "   'connection': 'keep-alive',\n",
       "   'x-amzn-requestid': 'NI7FGLEGALJ20062T9IJFF1GKNVV4KQNSO5AEMVJF66Q9ASUAAJG',\n",
       "   'x-amz-crc32': '2745614147'},\n",
       "  'RetryAttempts': 0}}"
      ]
     },
     "execution_count": 9,
     "metadata": {},
     "output_type": "execute_result"
    }
   ],
   "source": [
    "ordenes.put_item(\n",
    "    Item = {\n",
    "        'OrdenID' : \"189440\",\n",
    "        'Cliente' : [\n",
    "            509477760, \"Hertha Jiles\",  \"hjiles@ed.gov\",     \"Hombre\",      \"New Jersey\",           False,                  30\n",
    "        #   ClienteID   #Nombre          #Email                #Genero            #Lugar      #Internacional o no     #Edad\n",
    "        ],\n",
    "        'Producto' : [\n",
    "            \"BF8238\",        1,              4\n",
    "        #   ProductID       #Cantidad       #Rating\n",
    "        ],\n",
    "        \"Precio\" : [\n",
    "            100,                0,              100\n",
    "        #   PrecioSales        #Shipping        #Total\n",
    "        ],\n",
    "        'Reseña' :'The delivery team handled the product with care.'\n",
    "    }\n",
    ")"
   ]
  },
  {
   "cell_type": "code",
   "execution_count": 8,
   "metadata": {},
   "outputs": [
    {
     "name": "stdout",
     "output_type": "stream",
     "text": [
      "{'OrdenID': '189440', 'Producto': ['BF8238', Decimal('1'), Decimal('4')], 'Cliente': [Decimal('509477760'), 'Hertha Jiles', 'hjiles@ed.gov', 'Hombre', False, Decimal('30')], 'Reseña': 'The delivery team handled the product with care.'}\n"
     ]
    }
   ],
   "source": [
    "response = ordenes.get_item(\n",
    "    Key = {\n",
    "        'OrdenID' : \"189440\"\n",
    "    }\n",
    ")\n",
    "\n",
    "item = response['Item']\n",
    "print(item)"
   ]
  },
  {
   "cell_type": "markdown",
   "metadata": {},
   "source": [
    "# Creando tabla 'Productos'"
   ]
  },
  {
   "cell_type": "code",
   "execution_count": 10,
   "metadata": {},
   "outputs": [
    {
     "name": "stdout",
     "output_type": "stream",
     "text": [
      "0\n"
     ]
    }
   ],
   "source": [
    "productos = dynamodb.create_table(\n",
    "    TableName = 'Productos',\n",
    "    KeySchema =[\n",
    "        {\n",
    "            'AttributeName' : 'ProductID',\n",
    "            'KeyType' : 'HASH'\n",
    "        }\n",
    "    ],\n",
    "    AttributeDefinitions = [\n",
    "        {\n",
    "            'AttributeName' : 'ProductID',\n",
    "            'AttributeType' : 'S'\n",
    "        }\n",
    "    ],\n",
    "    ProvisionedThroughput = {\n",
    "        'ReadCapacityUnits' : 10,\n",
    "        'WriteCapacityUnits' : 10\n",
    "    }\n",
    ")\n",
    "\n",
    "productos.wait_until_exists()\n",
    "\n",
    "print(productos.item_count)"
   ]
  },
  {
   "cell_type": "code",
   "execution_count": 13,
   "metadata": {},
   "outputs": [],
   "source": [
    "with productos.batch_writer() as batch:\n",
    "    batch.put_item(\n",
    "        Item = {\n",
    "            'ProductID' : \"BF9708\",\n",
    "            'Producto' : \"Bufanda1\",\n",
    "            'Categoria' : \"Accesorio\",\n",
    "            'Descripcion' :'Bufanda uno',\n",
    "            'imgURL' : \"https://productosizzyshop.s3.us-east-1.amazonaws.com/bufanda1.JPG\"\n",
    "        }\n",
    "    )\n",
    "\n",
    "    batch.put_item(\n",
    "        Item = {\n",
    "            'ProductID' : \"Bf1414\",\n",
    "            'Producto' : \"Camisa1\",\n",
    "            'Categoria' : \"Prenda\",\n",
    "            'Descripcion' :'Camisa uno',\n",
    "            'imgURL' : \"https://productosizzyshop.s3.us-east-1.amazonaws.com/camisa1.JPG\"\n",
    "        }\n",
    "    )\n",
    "\n",
    "    batch.put_item(\n",
    "        Item = {\n",
    "            'ProductID' : \"BF6604\",\n",
    "            'Producto' : \"Collar1\",\n",
    "            'Categoria' : \"Accesorio\",\n",
    "            'Descripcion' :'Collar uno',\n",
    "            'imgURL' : \"https://productosizzyshop.s3.us-east-1.amazonaws.com/collar1.JPG\"\n",
    "        }\n",
    "    )\n",
    "\n",
    "    batch.put_item(\n",
    "        Item = {\n",
    "            'ProductID' : \"BF2887\",\n",
    "            'Producto' : \"Zapatos1\",\n",
    "            'Categoria' : \"Accesorio\",\n",
    "            'Descripcion' :'Zapato uno',\n",
    "            'imgURL' : \"https://productosizzyshop.s3.us-east-1.amazonaws.com/zapatos1.JPG\"\n",
    "        }\n",
    "    )\n",
    "\n",
    "    batch.put_item(\n",
    "        Item = {\n",
    "            'ProductID' : \"BF8063\",\n",
    "            'Producto' : \"Vestido1\",\n",
    "            'Categoria' : \"Prenda\",\n",
    "            'Descripcion' :'Vestido uno',\n",
    "            'imgURL' : \"https://productosizzyshop.s3.us-east-1.amazonaws.com/vestido1.JPG\"\n",
    "        }\n",
    "    )"
   ]
  },
  {
   "cell_type": "code",
   "execution_count": 26,
   "metadata": {},
   "outputs": [
    {
     "name": "stdout",
     "output_type": "stream",
     "text": [
      "[{'ProductID': 'BF8063', 'Categoria': 'Prenda', 'Producto': 'Vestido1', 'Descripcion': 'Vestido uno', 'imgURL': 'https://productosizzyshop.s3.us-east-1.amazonaws.com/vestido1.JPG'}, {'ProductID': 'Bf1414', 'Categoria': 'Prenda', 'Producto': 'Camisa1', 'Descripcion': 'Camisa uno', 'imgURL': 'https://productosizzyshop.s3.us-east-1.amazonaws.com/camisa1.JPG'}]\n"
     ]
    }
   ],
   "source": [
    "from boto3.dynamodb.conditions import Key, Attr\n",
    "response = productos.scan(\n",
    "    FilterExpression = Attr('Categoria').eq('Prenda')\n",
    ")\n",
    "\n",
    "items = response['Items']\n",
    "print(items)"
   ]
  }
 ],
 "metadata": {
  "kernelspec": {
   "display_name": "aws",
   "language": "python",
   "name": "python3"
  },
  "language_info": {
   "codemirror_mode": {
    "name": "ipython",
    "version": 3
   },
   "file_extension": ".py",
   "mimetype": "text/x-python",
   "name": "python",
   "nbconvert_exporter": "python",
   "pygments_lexer": "ipython3",
   "version": "3.11.11"
  }
 },
 "nbformat": 4,
 "nbformat_minor": 2
}
